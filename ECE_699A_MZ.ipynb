{
 "cells": [
  {
   "cell_type": "markdown",
   "metadata": {
    "colab_type": "text",
    "id": "view-in-github"
   },
   "source": [
    "<a href=\"https://colab.research.google.com/github/KaxitPandya/699-Project/blob/main/ECE_699A.ipynb\" target=\"_parent\"><img src=\"https://colab.research.google.com/assets/colab-badge.svg\" alt=\"Open In Colab\"/></a>"
   ]
  },
  {
   "cell_type": "code",
   "execution_count": 1,
   "metadata": {
    "id": "EV8zLy8pxfjV"
   },
   "outputs": [],
   "source": [
    "# importing variables from json:\n",
    "import json\n",
    "with open('./input copy.json', 'r') as f:\n",
    "    input_data = json.load(f)"
   ]
  },
  {
   "cell_type": "code",
   "execution_count": 2,
   "metadata": {
    "id": "c8wtnUbZvV5T"
   },
   "outputs": [],
   "source": [
    "import pandas as pd\n",
    "import numpy as np\n",
    "import seaborn as sns\n",
    "import matplotlib.pyplot as plt\n",
    "from scipy import stats"
   ]
  },
  {
   "cell_type": "markdown",
   "metadata": {
    "id": "2qQ8Zfg5U0Z4"
   },
   "source": [
    "# Model Training"
   ]
  },
  {
   "cell_type": "code",
   "execution_count": 4,
   "metadata": {
    "id": "tfX33jtg0WpU"
   },
   "outputs": [],
   "source": [
    "import pandas as pd\n",
    "import numpy as np\n",
    "import tensorflow as tf\n",
    "from tensorflow import keras\n",
    "from tensorflow.keras import layers, regularizers\n",
    "from sklearn.model_selection import train_test_split\n",
    "from sklearn.preprocessing import StandardScaler\n",
    "from sklearn.metrics import mean_squared_error, r2_score\n",
    "\n",
    "data = pd.read_csv(input_data['dataset_path3'])\n",
    "\n",
    "X = data.drop(\"Target\", axis=1).values\n",
    "y = data[\"Target\"].values\n",
    "\n",
    "# Normalize the features\n",
    "# scaler = StandardScaler()\n",
    "# X_scaled = scaler.fit_transform(X)\n",
    "\n",
    "# Split into training and testing datasets (80% train, 20% test)\n",
    "X_train, X_test, y_train, y_test = train_test_split(X, y, test_size=0.1, random_state=42)"
   ]
  },
  {
   "cell_type": "code",
   "execution_count": 5,
   "metadata": {
    "colab": {
     "base_uri": "https://localhost:8080/",
     "height": 289
    },
    "id": "5lQniFCET9Bw",
    "outputId": "8b50258b-74fd-4568-b299-d9d6345cbea8"
   },
   "outputs": [
    {
     "name": "stdout",
     "output_type": "stream",
     "text": [
      "\u001b[1m11/11\u001b[0m \u001b[32m━━━━━━━━━━━━━━━━━━━━\u001b[0m\u001b[37m\u001b[0m \u001b[1m0s\u001b[0m 3ms/step \n",
      "\u001b[1m2/2\u001b[0m \u001b[32m━━━━━━━━━━━━━━━━━━━━\u001b[0m\u001b[37m\u001b[0m \u001b[1m0s\u001b[0m 14ms/step\n",
      "\u001b[1m11/11\u001b[0m \u001b[32m━━━━━━━━━━━━━━━━━━━━\u001b[0m\u001b[37m\u001b[0m \u001b[1m0s\u001b[0m 3ms/step \n",
      "\u001b[1m2/2\u001b[0m \u001b[32m━━━━━━━━━━━━━━━━━━━━\u001b[0m\u001b[37m\u001b[0m \u001b[1m0s\u001b[0m 12ms/step\n",
      "\u001b[1m11/11\u001b[0m \u001b[32m━━━━━━━━━━━━━━━━━━━━\u001b[0m\u001b[37m\u001b[0m \u001b[1m0s\u001b[0m 4ms/step \n",
      "\u001b[1m2/2\u001b[0m \u001b[32m━━━━━━━━━━━━━━━━━━━━\u001b[0m\u001b[37m\u001b[0m \u001b[1m0s\u001b[0m 15ms/step\n",
      "\u001b[1m11/11\u001b[0m \u001b[32m━━━━━━━━━━━━━━━━━━━━\u001b[0m\u001b[37m\u001b[0m \u001b[1m0s\u001b[0m 5ms/step \n",
      "\u001b[1m2/2\u001b[0m \u001b[32m━━━━━━━━━━━━━━━━━━━━\u001b[0m\u001b[37m\u001b[0m \u001b[1m0s\u001b[0m 12ms/step\n",
      "\u001b[1m11/11\u001b[0m \u001b[32m━━━━━━━━━━━━━━━━━━━━\u001b[0m\u001b[37m\u001b[0m \u001b[1m0s\u001b[0m 3ms/step \n",
      "\u001b[1m2/2\u001b[0m \u001b[32m━━━━━━━━━━━━━━━━━━━━\u001b[0m\u001b[37m\u001b[0m \u001b[1m0s\u001b[0m 13ms/step\n"
     ]
    },
    {
     "data": {
      "text/plain": [
       "[0.898301521873359,\n",
       " 0.7895787516453514,\n",
       " 0.6485015120084294,\n",
       " 0.9229398849390652,\n",
       " 0.9292648344842832]"
      ]
     },
     "execution_count": 5,
     "metadata": {},
     "output_type": "execute_result"
    }
   ],
   "source": [
    "# 2. Define the Sparse Autoencoder Model in TensorFlow/Keras\n",
    "r2_score_list=[]\n",
    "for i in range(5):\n",
    "    # Split into training and testing datasets (80% train, 20% test)\n",
    "    X_train, X_test, y_train, y_test = train_test_split(X, y, test_size=0.1, random_state=42+i)\n",
    "    \n",
    "    input_dim = X_train.shape[1]\n",
    "    latent_dim = 64  # tune this based on dataset\n",
    "    \n",
    "    #input\n",
    "    input_layer = keras.Input(shape=(input_dim,))\n",
    "    \n",
    "    # Encoder\n",
    "    encoded = layers.Dense(128, activation='relu')(input_layer)\n",
    "    # Latent representation with L1 activity regularization to encourage sparsity\n",
    "    latent = layers.Dense(latent_dim, activation='relu',\n",
    "                          activity_regularizer=regularizers.l1(1e-3))(encoded)\n",
    "    \n",
    "    # Decoder\n",
    "    decoded = layers.Dense(128, activation='relu')(latent)\n",
    "    decoded = layers.Dense(input_dim, activation='linear')(decoded)  # Use linear activation for reconstruction\n",
    "    \n",
    "    # Autoencoder model\n",
    "    autoencoder = keras.Model(inputs=input_layer, outputs=decoded, name=\"sparse_autoencoder\")\n",
    "    autoencoder.compile(optimizer='adam', loss='mse')\n",
    "    \n",
    "    #autoencoder.summary()\n",
    "    # Training the autoencoder\n",
    "    epochs = 200\n",
    "    batch_size = 8\n",
    "    \n",
    "    history = autoencoder.fit(X_train, X_train,\n",
    "                              epochs=epochs,\n",
    "                              batch_size=batch_size,\n",
    "                              shuffle=True,\n",
    "                              validation_split=0.1,verbose=0)\n",
    "    # 4. Create the Encoder Model for Feature Extraction\n",
    "    # Create a model to extract the latent features\n",
    "    encoder = keras.Model(inputs=input_layer, outputs=latent, name=\"encoder\")\n",
    "    latent_train = encoder.predict(X_train)\n",
    "    latent_test = encoder.predict(X_test)\n",
    "    \n",
    "    \n",
    "    ###Let's do RF model using latent_train\n",
    "    from sklearn.ensemble import RandomForestRegressor as RFR\n",
    "    mymodel  = RFR(random_state=97)\n",
    "    mymodel.fit(latent_train,y_train)\n",
    "    y_pred = mymodel.predict(latent_test)\n",
    "    r2_score_list.append(r2_score(y_test,y_pred))\n",
    "r2_score_list"
   ]
  },
  {
   "cell_type": "code",
   "execution_count": 6,
   "metadata": {},
   "outputs": [],
   "source": [
    "import matplotlib.pyplot as plt "
   ]
  },
  {
   "cell_type": "code",
   "execution_count": 7,
   "metadata": {},
   "outputs": [
    {
     "data": {
      "text/plain": [
       "np.float64(0.8377173009900976)"
      ]
     },
     "execution_count": 7,
     "metadata": {},
     "output_type": "execute_result"
    }
   ],
   "source": [
    "np.mean(r2_score_list)"
   ]
  },
  {
   "cell_type": "code",
   "execution_count": 8,
   "metadata": {},
   "outputs": [
    {
     "data": {
      "image/png": "[encoded data removed]",
      "text/plain": [
       "<Figure size 640x480 with 1 Axes>"
      ]
     },
     "metadata": {},
     "output_type": "display_data"
    }
   ],
   "source": [
    "plt.plot(history.history['val_loss'])\n",
    "plt.show()"
   ]
  },
  {
   "cell_type": "code",
   "execution_count": 9,
   "metadata": {},
   "outputs": [
    {
     "name": "stdout",
     "output_type": "stream",
     "text": [
      "0.9292648344842832\n"
     ]
    }
   ],
   "source": [
    "from sklearn.metrics import r2_score\n",
    "print(r2_score(y_test,y_pred))"
   ]
  },
  {
   "cell_type": "code",
   "execution_count": 10,
   "metadata": {
    "colab": {
     "base_uri": "https://localhost:8080/",
     "height": 1000
    },
    "id": "M5DaKbHnUK2e",
    "outputId": "192aee58-3165-4c75-8749-da836f4932f6"
   },
   "outputs": [
    {
     "name": "stdout",
     "output_type": "stream",
     "text": [
      "\u001b[1m11/11\u001b[0m \u001b[32m━━━━━━━━━━━━━━━━━━━━\u001b[0m\u001b[37m\u001b[0m \u001b[1m0s\u001b[0m 2ms/step \n",
      "\u001b[1m2/2\u001b[0m \u001b[32m━━━━━━━━━━━━━━━━━━━━\u001b[0m\u001b[37m\u001b[0m \u001b[1m0s\u001b[0m 14ms/step\n",
      "\u001b[1m2/2\u001b[0m \u001b[32m━━━━━━━━━━━━━━━━━━━━\u001b[0m\u001b[37m\u001b[0m \u001b[1m0s\u001b[0m 39ms/step\n",
      "Test MSE for AGB prediction: 4511.4015\n",
      "Test R^2 for AGB prediction: 0.9040\n",
      "\u001b[1m11/11\u001b[0m \u001b[32m━━━━━━━━━━━━━━━━━━━━\u001b[0m\u001b[37m\u001b[0m \u001b[1m0s\u001b[0m 2ms/step \n",
      "\u001b[1m2/2\u001b[0m \u001b[32m━━━━━━━━━━━━━━━━━━━━\u001b[0m\u001b[37m\u001b[0m \u001b[1m0s\u001b[0m 18ms/step\n",
      "\u001b[1m2/2\u001b[0m \u001b[32m━━━━━━━━━━━━━━━━━━━━\u001b[0m\u001b[37m\u001b[0m \u001b[1m0s\u001b[0m 39ms/step\n",
      "Test MSE for AGB prediction: 3903.0457\n",
      "Test R^2 for AGB prediction: 0.8422\n",
      "\u001b[1m11/11\u001b[0m \u001b[32m━━━━━━━━━━━━━━━━━━━━\u001b[0m\u001b[37m\u001b[0m \u001b[1m0s\u001b[0m 3ms/step \n",
      "\u001b[1m2/2\u001b[0m \u001b[32m━━━━━━━━━━━━━━━━━━━━\u001b[0m\u001b[37m\u001b[0m \u001b[1m0s\u001b[0m 16ms/step\n",
      "\u001b[1m2/2\u001b[0m \u001b[32m━━━━━━━━━━━━━━━━━━━━\u001b[0m\u001b[37m\u001b[0m \u001b[1m0s\u001b[0m 153ms/step\n",
      "Test MSE for AGB prediction: 6294.8189\n",
      "Test R^2 for AGB prediction: 0.8259\n",
      "\u001b[1m11/11\u001b[0m \u001b[32m━━━━━━━━━━━━━━━━━━━━\u001b[0m\u001b[37m\u001b[0m \u001b[1m0s\u001b[0m 9ms/step \n",
      "\u001b[1m2/2\u001b[0m \u001b[32m━━━━━━━━━━━━━━━━━━━━\u001b[0m\u001b[37m\u001b[0m \u001b[1m0s\u001b[0m 56ms/step\n",
      "\u001b[1m2/2\u001b[0m \u001b[32m━━━━━━━━━━━━━━━━━━━━\u001b[0m\u001b[37m\u001b[0m \u001b[1m0s\u001b[0m 101ms/step\n",
      "Test MSE for AGB prediction: 3428.1805\n",
      "Test R^2 for AGB prediction: 0.9226\n",
      "\u001b[1m11/11\u001b[0m \u001b[32m━━━━━━━━━━━━━━━━━━━━\u001b[0m\u001b[37m\u001b[0m \u001b[1m0s\u001b[0m 5ms/step \n",
      "\u001b[1m2/2\u001b[0m \u001b[32m━━━━━━━━━━━━━━━━━━━━\u001b[0m\u001b[37m\u001b[0m \u001b[1m0s\u001b[0m 35ms/step\n",
      "\u001b[1m2/2\u001b[0m \u001b[32m━━━━━━━━━━━━━━━━━━━━\u001b[0m\u001b[37m\u001b[0m \u001b[1m0s\u001b[0m 157ms/step\n",
      "Test MSE for AGB prediction: 3237.2064\n",
      "Test R^2 for AGB prediction: 0.9279\n"
     ]
    },
    {
     "data": {
      "text/plain": [
       "np.float64(0.8845460856747716)"
      ]
     },
     "execution_count": 10,
     "metadata": {},
     "output_type": "execute_result"
    }
   ],
   "source": [
    "# 5. Build and Train a Downstream Regression Model for AGB Prediction\n",
    "r2_score_list=[]\n",
    "for i in range(5):\n",
    "    # Split into training and testing datasets (80% train, 20% test)\n",
    "    X_train, X_test, y_train, y_test = train_test_split(X, y, test_size=0.1, random_state=42+i)\n",
    "    latent_train = encoder.predict(X_train)\n",
    "    latent_test = encoder.predict(X_test)\n",
    "    \n",
    "    reg_input = keras.Input(shape=(latent_dim,))\n",
    "    x = layers.Dense(64, activation='relu')(reg_input)\n",
    "    x = layers.Dense(32, activation='relu')(x)\n",
    "    # Single output neuron for regression (AGB value)\n",
    "    reg_output = layers.Dense(1, activation='linear')(x)\n",
    "    regressor = keras.Model(inputs=reg_input, outputs=reg_output, name=\"regressor\")\n",
    "    \n",
    "    regressor.compile(optimizer='adam', loss='mse', metrics=['mae'])\n",
    "    #regressor.summary()\n",
    "    \n",
    "    reg_epochs = 300\n",
    "    reg_history = regressor.fit(latent_train, y_train,\n",
    "                                epochs=reg_epochs,\n",
    "                                batch_size=8,\n",
    "                                validation_split=0.1,\n",
    "                                verbose=0)  # Set verbose=1 to see training progress\n",
    "    y_pred = regressor.predict(latent_test).flatten()\n",
    "    mse_value = mean_squared_error(y_test, y_pred)\n",
    "    print(f\"Test MSE for AGB prediction: {mse_value:.4f}\")\n",
    "    \n",
    "    from sklearn.metrics import r2_score\n",
    "    r2 = r2_score(y_test, y_pred)\n",
    "    print(f\"Test R^2 for AGB prediction: {r2:.4f}\")\n",
    "    r2_score_list.append(r2)\n",
    "np.mean(r2_score_list)"
   ]
  },
  {
   "cell_type": "code",
   "execution_count": 11,
   "metadata": {},
   "outputs": [
    {
     "data": {
      "text/plain": [
       "[0.90404322832428,\n",
       " 0.8422287535936099,\n",
       " 0.8258979776588836,\n",
       " 0.9226245817681519,\n",
       " 0.9279358870289325]"
      ]
     },
     "execution_count": 11,
     "metadata": {},
     "output_type": "execute_result"
    }
   ],
   "source": [
    "r2_score_list"
   ]
  },
  {
   "cell_type": "code",
   "execution_count": 12,
   "metadata": {},
   "outputs": [
    {
     "data": {
      "text/plain": [
       "[<matplotlib.lines.Line2D at 0x1ab68f49520>]"
      ]
     },
     "execution_count": 12,
     "metadata": {},
     "output_type": "execute_result"
    },
    {
     "data": {
      "image/png": "[encoded data removed]",
      "text/plain": [
       "<Figure size 640x480 with 1 Axes>"
      ]
     },
     "metadata": {},
     "output_type": "display_data"
    }
   ],
   "source": [
    "plt.plot(reg_history.history['val_loss'])"
   ]
  },
  {
   "cell_type": "code",
   "execution_count": 13,
   "metadata": {
    "id": "OaKkGT3rUpnd"
   },
   "outputs": [],
   "source": [
    "# make graphs"
   ]
  },
  {
   "cell_type": "code",
   "execution_count": null,
   "metadata": {},
   "outputs": [],
   "source": []
  }
 ],
 "metadata": {
  "colab": {
   "authorship_tag": "ABX9TyOkdP1E2jk6lrzEsMx4IZEE",
   "include_colab_link": true,
   "provenance": []
  },
  "kernelspec": {
   "display_name": "Python 3",
   "language": "python",
   "name": "python3"
  },
  "language_info": {
   "codemirror_mode": {
    "name": "ipython",
    "version": 3
   },
   "file_extension": ".py",
   "mimetype": "text/x-python",
   "name": "python",
   "nbconvert_exporter": "python",
   "pygments_lexer": "ipython3",
   "version": "3.12.8"
  }
 },
 "nbformat": 4,
 "nbformat_minor": 4
}
